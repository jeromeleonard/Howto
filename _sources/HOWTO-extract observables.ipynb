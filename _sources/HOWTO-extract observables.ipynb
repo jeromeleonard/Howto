{
 "cells": [
  {
   "cell_type": "markdown",
   "metadata": {},
   "source": [
    "# Extract and add new observables from Cortex Neurons\n",
    "\n",
    "This guide show few examples and possibilities to:\n",
    "\n",
    "- report new observables with Analyzers reports;\n",
    "- automatically import new observables with Responders"
   ]
  },
  {
   "cell_type": "markdown",
   "metadata": {},
   "source": [
    "## Pre-requisites and context\n",
    "\n",
    "All examples showns in this guide use existing Cortexutils python library. Cortexutils is a helper that make writing analyzers and responders easy. \n",
    "\n",
    "## Define new observables in Analzyers reports"
   ]
  }
 ],
 "metadata": {
  "jupytext": {
   "cell_metadata_filter": "-all",
   "formats": "md:myst",
   "text_representation": {
    "extension": ".md",
    "format_name": "myst",
    "format_version": 0.12,
    "jupytext_version": "1.6.0"
   }
  },
  "kernelspec": {
   "display_name": "Python 3",
   "language": "python",
   "name": "python3"
  },
  "language_info": {
   "codemirror_mode": {
    "name": "ipython",
    "version": 3
   },
   "file_extension": ".py",
   "mimetype": "text/x-python",
   "name": "python",
   "nbconvert_exporter": "python",
   "pygments_lexer": "ipython3",
   "version": "3.7.6"
  },
  "source_map": [
   14,
   23
  ]
 },
 "nbformat": 4,
 "nbformat_minor": 4
}